{
  "nbformat": 4,
  "nbformat_minor": 0,
  "metadata": {
    "colab": {
      "provenance": [],
      "authorship_tag": "ABX9TyO712HNE6jeSDkfxRSlsA6d",
      "include_colab_link": true
    },
    "kernelspec": {
      "name": "python3",
      "display_name": "Python 3"
    },
    "language_info": {
      "name": "python"
    }
  },
  "cells": [
    {
      "cell_type": "markdown",
      "metadata": {
        "id": "view-in-github",
        "colab_type": "text"
      },
      "source": [
        "<a href=\"https://colab.research.google.com/github/cynthiacxzhang/NHP-HC/blob/hail-counter-versions/Hail_Counter_Structure_Program.ipynb\" target=\"_parent\"><img src=\"https://colab.research.google.com/assets/colab-badge.svg\" alt=\"Open In Colab\"/></a>"
      ]
    },
    {
      "cell_type": "markdown",
      "source": [
        "**Hail Counter Structure Program**\n",
        "\n",
        "Sample program for a hail counter --> simple code to identify whether or not there is hail given a select dataset. The second set of code/pseudocode is deviating from the structure to suit an actual hail counter based on data."
      ],
      "metadata": {
        "id": "tb66YfbFTNOx"
      }
    },
    {
      "cell_type": "code",
      "source": [
        "#pseudocode for initial basic structure code\n",
        "\"\"\"\n",
        "create counter function\n",
        "\n",
        "create increment counter function\n",
        "  define counter as a global variable\n",
        "  set increments for the counter\n",
        "\n",
        "  on second thought, that's a poor idea\n",
        "\n",
        "\"\"\""
      ],
      "metadata": {
        "id": "5zNvJvfHTo7_"
      },
      "execution_count": null,
      "outputs": []
    },
    {
      "cell_type": "code",
      "execution_count": null,
      "metadata": {
        "id": "o0yFHopBRtzO"
      },
      "outputs": [],
      "source": [
        "#sample counter structure for the most basic counter + experimentation with the idea of a global variable\n",
        "\n",
        "def counter_above_zero():\n",
        "    print(\"Counter is above zero!\")\n",
        "\n",
        "counter = 0\n",
        "\n",
        "def increment_counter():\n",
        "    global counter\n",
        "    counter += 1\n",
        "    if counter > 0:\n",
        "        counter_above_zero()\n",
        "\n",
        "increment_counter()  # Counter is not above zero\n",
        "increment_counter()  # Counter is above zero!\n"
      ]
    },
    {
      "cell_type": "markdown",
      "source": [
        "More complex version of the hail counter program (with returns?)\n",
        "\n",
        "**Notes**:\n",
        "\n",
        "*   if/else within one function to identify if hail >= 0\n",
        "*   function outside of the if/else function to sort through the data --> (this would either take a list or an array but as of right now a list is easier to perform basic math with...)\n",
        "*   function with returns in order to reuse it with different lists\n",
        "*   e.g.\n",
        "\n",
        "def hail_counter([list])\n",
        "  function contents\n",
        "\n",
        "result = hailcounter([specific list])\n",
        "\n",
        "*   Colab access to SQL?"
      ],
      "metadata": {
        "id": "DN0Qc8uHU6GW"
      }
    },
    {
      "cell_type": "code",
      "source": [
        "#more complex and tailored version of a hail counter program\n",
        "\n",
        "def list_sum (values):\n",
        "  total = sum(values)\n",
        "  return total\n",
        "\n",
        "def hail_counter()\n",
        "  result = list_sum(values)\n",
        "  #if result greater than or equal to 1, run color function\n",
        "  #else\n",
        "    #do nothing\n",
        "\n",
        "def hail_indicator()\n"
      ],
      "metadata": {
        "id": "fq7a7gQ0Ulm9"
      },
      "execution_count": null,
      "outputs": []
    }
  ]
}